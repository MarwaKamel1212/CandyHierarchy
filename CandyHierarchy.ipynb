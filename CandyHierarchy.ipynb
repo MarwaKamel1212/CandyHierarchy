{
 "cells": [
  {
   "cell_type": "code",
   "execution_count": 23,
   "metadata": {},
   "outputs": [],
   "source": [
    "import pandas as pd"
   ]
  },
  {
   "cell_type": "code",
   "execution_count": 24,
   "metadata": {},
   "outputs": [],
   "source": [
    "df =pd.read_csv('Data/candyhierarchy2017.csv',encoding='latin-1')"
   ]
  },
  {
   "cell_type": "markdown",
   "metadata": {},
   "source": []
  },
  {
   "cell_type": "markdown",
   "metadata": {},
   "source": [
    "# Handling null values"
   ]
  },
  {
   "cell_type": "code",
   "execution_count": 25,
   "metadata": {},
   "outputs": [
    {
     "data": {
      "text/plain": [
       "(2433, 120)"
      ]
     },
     "execution_count": 25,
     "metadata": {},
     "output_type": "execute_result"
    }
   ],
   "source": [
    "#drop the row if all values are null'going_out', 'gender', 'age', 'country', 'area'\n",
    "df.dropna(subset=['Q1: GOING OUT?','Q3: AGE','Q4: COUNTRY'],how = 'all', inplace = True)\n",
    "df.shape"
   ]
  },
  {
   "cell_type": "markdown",
   "metadata": {},
   "source": [
    "# Filling Null Values"
   ]
  },
  {
   "cell_type": "code",
   "execution_count": 26,
   "metadata": {},
   "outputs": [],
   "source": [
    "\n",
    "df['Q1: GOING OUT?'] = df['Q1: GOING OUT?'].fillna('Do not know')\n",
    "df['Q2: GENDER']=df['Q2: GENDER'].fillna(\"I'd rather not say\")\n",
    "df['Q4: COUNTRY']=df['Q4: COUNTRY'].fillna(\"unknown\")\n"
   ]
  },
  {
   "cell_type": "markdown",
   "metadata": {},
   "source": [
    "# Removing nonnumeric values from age column\n"
   ]
  },
  {
   "cell_type": "code",
   "execution_count": 27,
   "metadata": {},
   "outputs": [],
   "source": [
    "df['Q3: AGE'] = df['Q3: AGE'].str.replace(r\"[a-zA-Z]\",'')"
   ]
  },
  {
   "cell_type": "code",
   "execution_count": 28,
   "metadata": {},
   "outputs": [
    {
     "data": {
      "text/plain": [
       "(2433, 120)"
      ]
     },
     "execution_count": 28,
     "metadata": {},
     "output_type": "execute_result"
    }
   ],
   "source": [
    "df.shape"
   ]
  },
  {
   "cell_type": "markdown",
   "metadata": {},
   "source": [
    "# Check for Duplicated Data"
   ]
  },
  {
   "cell_type": "code",
   "execution_count": 29,
   "metadata": {},
   "outputs": [
    {
     "data": {
      "text/html": [
       "<div>\n",
       "<style scoped>\n",
       "    .dataframe tbody tr th:only-of-type {\n",
       "        vertical-align: middle;\n",
       "    }\n",
       "\n",
       "    .dataframe tbody tr th {\n",
       "        vertical-align: top;\n",
       "    }\n",
       "\n",
       "    .dataframe thead th {\n",
       "        text-align: right;\n",
       "    }\n",
       "</style>\n",
       "<table border=\"1\" class=\"dataframe\">\n",
       "  <thead>\n",
       "    <tr style=\"text-align: right;\">\n",
       "      <th></th>\n",
       "      <th>Internal ID</th>\n",
       "      <th>Q1: GOING OUT?</th>\n",
       "      <th>Q2: GENDER</th>\n",
       "      <th>Q3: AGE</th>\n",
       "      <th>Q4: COUNTRY</th>\n",
       "      <th>Q5: STATE, PROVINCE, COUNTY, ETC</th>\n",
       "      <th>Q6 | 100 Grand Bar</th>\n",
       "      <th>Q6 | Anonymous brown globs that come in black and orange wrappers\\t(a.k.a. Mary Janes)</th>\n",
       "      <th>Q6 | Any full-sized candy bar</th>\n",
       "      <th>Q6 | Black Jacks</th>\n",
       "      <th>...</th>\n",
       "      <th>Q8: DESPAIR OTHER</th>\n",
       "      <th>Q9: OTHER COMMENTS</th>\n",
       "      <th>Q10: DRESS</th>\n",
       "      <th>Unnamed: 113</th>\n",
       "      <th>Q11: DAY</th>\n",
       "      <th>Q12: MEDIA [Daily Dish]</th>\n",
       "      <th>Q12: MEDIA [Science]</th>\n",
       "      <th>Q12: MEDIA [ESPN]</th>\n",
       "      <th>Q12: MEDIA [Yahoo]</th>\n",
       "      <th>Click Coordinates (x, y)</th>\n",
       "    </tr>\n",
       "  </thead>\n",
       "  <tbody>\n",
       "  </tbody>\n",
       "</table>\n",
       "<p>0 rows × 120 columns</p>\n",
       "</div>"
      ],
      "text/plain": [
       "Empty DataFrame\n",
       "Columns: [Internal ID, Q1: GOING OUT?, Q2: GENDER, Q3: AGE, Q4: COUNTRY, Q5: STATE, PROVINCE, COUNTY, ETC, Q6 | 100 Grand Bar, Q6 | Anonymous brown globs that come in black and orange wrappers\t(a.k.a. Mary Janes), Q6 | Any full-sized candy bar, Q6 | Black Jacks, Q6 | Bonkers (the candy), Q6 | Bonkers (the board game), Q6 | Bottle Caps, Q6 | Box'o'Raisins, Q6 | Broken glow stick, Q6 | Butterfinger, Q6 | Cadbury Creme Eggs, Q6 | Candy Corn, Q6 | Candy that is clearly just the stuff given out for free at restaurants, Q6 | Caramellos, Q6 | Cash, or other forms of legal tender, Q6 | Chardonnay, Q6 | Chick-o-Sticks (we donÕt know what that is), Q6 | Chiclets, Q6 | Coffee Crisp, Q6 | Creepy Religious comics/Chick Tracts, Q6 | Dental paraphenalia, Q6 | Dots, Q6 | Dove Bars, Q6 | Fuzzy Peaches, Q6 | Generic Brand Acetaminophen, Q6 | Glow sticks, Q6 | Goo Goo Clusters, Q6 | Good N' Plenty, Q6 | Gum from baseball cards, Q6 | Gummy Bears straight up, Q6 | Hard Candy, Q6 | Healthy Fruit, Q6 | Heath Bar, Q6 | Hershey's Dark Chocolate, Q6 | HersheyÕs Milk Chocolate, Q6 | Hershey's Kisses, Q6 | Hugs (actual physical hugs), Q6 | Jolly Rancher (bad flavor), Q6 | Jolly Ranchers (good flavor), Q6 | JoyJoy (Mit Iodine!), Q6 | Junior Mints, Q6 | Senior Mints, Q6 | Kale smoothie, Q6 | Kinder Happy Hippo, Q6 | Kit Kat, Q6 | LaffyTaffy, Q6 | LemonHeads, Q6 | Licorice (not black), Q6 | Licorice (yes black), Q6 | Lindt Truffle, Q6 | Lollipops, Q6 | Mars, Q6 | Maynards, Q6 | Mike and Ike, Q6 | Milk Duds, Q6 | Milky Way, Q6 | Regular M&Ms, Q6 | Peanut M&MÕs, Q6 | Blue M&M's, Q6 | Red M&M's, Q6 | Green Party M&M's, Q6 | Independent M&M's, Q6 | Abstained from M&M'ing., Q6 | Minibags of chips, Q6 | Mint Kisses, Q6 | Mint Juleps, Q6 | Mr. Goodbar, Q6 | Necco Wafers, Q6 | Nerds, Q6 | Nestle Crunch, Q6 | Now'n'Laters, Q6 | Peeps, Q6 | Pencils, Q6 | Pixy Stix, Q6 | Real Housewives of Orange County Season 9 Blue-Ray, Q6 | ReeseÕs Peanut Butter Cups, Q6 | Reese's Pieces, Q6 | Reggie Jackson Bar, Q6 | Rolos, Q6 | Sandwich-sized bags filled with BooBerry Crunch, Q6 | Skittles, Q6 | Smarties (American), Q6 | Smarties (Commonwealth), Q6 | Snickers, Q6 | Sourpatch Kids (i.e. abominations of nature), Q6 | Spotted Dick, Q6 | Starburst, Q6 | Sweet Tarts, Q6 | Swedish Fish, Q6 | Sweetums (a friend to diabetes), Q6 | Take 5, Q6 | Tic Tacs, Q6 | Those odd marshmallow circus peanut things, Q6 | Three Musketeers, ...]\n",
       "Index: []\n",
       "\n",
       "[0 rows x 120 columns]"
      ]
     },
     "execution_count": 29,
     "metadata": {},
     "output_type": "execute_result"
    }
   ],
   "source": [
    "duplicates = df.duplicated()\n",
    "df[duplicates]"
   ]
  },
  {
   "cell_type": "markdown",
   "metadata": {},
   "source": [
    "# Country column"
   ]
  },
  {
   "cell_type": "code",
   "execution_count": 30,
   "metadata": {},
   "outputs": [
    {
     "data": {
      "text/plain": [
       "array(['USA ', 'USA', 'us', 'usa', 'unknown', 'canada', 'Canada', 'Us',\n",
       "       'US', 'Murica', 'United States', 'uk', 'United Kingdom',\n",
       "       'united states', 'Usa', 'United States ', 'United staes',\n",
       "       'United States of America', 'UAE', 'England', 'UK', 'canada ',\n",
       "       'Mexico', 'United states', 'u.s.a.', 'USAUSAUSA', 'america', '35',\n",
       "       'france', 'United States of America ', 'U.S.A.', 'finland',\n",
       "       'unhinged states', 'Canada ', 'united states of america',\n",
       "       'US of A', 'Unites States', 'The United States', 'North Carolina ',\n",
       "       'Unied States', 'Netherlands', 'germany', 'Europe', 'Earth', 'U S',\n",
       "       'u.s.', 'U.K. ', 'Costa Rica', 'The United States of America',\n",
       "       'unite states', 'U.S.', '46', 'cascadia', 'Australia',\n",
       "       'insanity lately', 'Greece', 'USA? Hard to tell anymore..',\n",
       "       \"'merica\", 'usas', 'Pittsburgh', '45', 'United State', '32',\n",
       "       'France', 'australia', 'A', 'Can', 'Canae', 'New York',\n",
       "       'Trumpistan', 'Ireland', 'United Sates', 'Korea', 'California',\n",
       "       'Japan', 'USa', 'South africa',\n",
       "       'I pretend to be from Canada, but I am really from the United States.',\n",
       "       'Usa ', 'Uk', 'Iceland', 'Germany', 'Canada`', 'Scotland', 'UK ',\n",
       "       'Denmark', 'United Stated', 'France ', 'Switzerland',\n",
       "       'Ahem....Amerca', 'UD', 'Scotland ', 'South Korea', 'New Jersey',\n",
       "       'CANADA', 'Indonesia', 'United ststes', 'America',\n",
       "       'The Netherlands', 'United Statss', 'endland', 'Atlantis',\n",
       "       'murrika', 'USA! USA! USA!', 'USAA', 'Alaska', 'united States ',\n",
       "       'soviet canuckistan', 'N. America', 'Singapore', 'USSA', 'China',\n",
       "       'Taiwan', 'Ireland ', 'hong kong', 'spain', 'Sweden', 'Hong Kong',\n",
       "       'U.S. ', 'Narnia', 'u s a', 'United Statea', 'united ststes', '1',\n",
       "       'subscribe to dm4uz3 on youtube', 'United kingdom',\n",
       "       'USA USA USA!!!!', \"I don't know anymore\", 'Fear and Loathing'],\n",
       "      dtype=object)"
      ]
     },
     "execution_count": 30,
     "metadata": {},
     "output_type": "execute_result"
    }
   ],
   "source": [
    "from fuzzywuzzy import process\n",
    "df['Q4: COUNTRY'].unique()"
   ]
  },
  {
   "cell_type": "code",
   "execution_count": 31,
   "metadata": {},
   "outputs": [],
   "source": [
    "USA = [x for x in df['Q4: COUNTRY'] \n",
    "       if (('u' in str(x) or 'U' in str(x) or 'americ' in str(x))   and 'ingdom' not in str(x)\\\n",
    "     and 'urope' not in str(x) and 'stralia' not in str(x) and 'South Korea' not in str(x)\\\n",
    "           and 'South africa' not in str(x) and 'uk' not in str(x))]"
   ]
  },
  {
   "cell_type": "code",
   "execution_count": 32,
   "metadata": {},
   "outputs": [],
   "source": [
    "df['Q4: COUNTRY']= df['Q4: COUNTRY'].replace(to_replace = USA, value = 'USA')\n"
   ]
  },
  {
   "cell_type": "code",
   "execution_count": 33,
   "metadata": {},
   "outputs": [
    {
     "data": {
      "text/plain": [
       "array(['USA', 'canada', 'Canada', 'uk', 'United Kingdom', 'England',\n",
       "       'canada ', 'Mexico', '35', 'france', 'finland', 'Canada ',\n",
       "       'North Carolina ', 'Netherlands', 'germany', 'Europe', 'Earth',\n",
       "       'Costa Rica', '46', 'cascadia', 'Australia', 'insanity lately',\n",
       "       'Greece', \"'merica\", '45', '32', 'France', 'australia', 'A', 'Can',\n",
       "       'Canae', 'New York', 'Ireland', 'Korea', 'California', 'Japan',\n",
       "       'South africa', 'Iceland', 'Germany', 'Canada`', 'Scotland',\n",
       "       'Denmark', 'France ', 'Switzerland', 'Ahem....Amerca', 'Scotland ',\n",
       "       'South Korea', 'New Jersey', 'CANADA', 'Indonesia', 'America',\n",
       "       'The Netherlands', 'endland', 'Atlantis', 'Alaska', 'N. America',\n",
       "       'Singapore', 'China', 'Taiwan', 'Ireland ', 'hong kong', 'spain',\n",
       "       'Sweden', 'Hong Kong', 'Narnia', '1', 'United kingdom',\n",
       "       \"I don't know anymore\", 'Fear and Loathing'], dtype=object)"
      ]
     },
     "execution_count": 33,
     "metadata": {},
     "output_type": "execute_result"
    }
   ],
   "source": [
    "df['Q4: COUNTRY'].unique()"
   ]
  },
  {
   "cell_type": "code",
   "execution_count": 34,
   "metadata": {},
   "outputs": [],
   "source": [
    "Canada=[x for x in df['Q4: COUNTRY']\n",
    "                    if('anada' in str(x))]"
   ]
  },
  {
   "cell_type": "code",
   "execution_count": 35,
   "metadata": {},
   "outputs": [],
   "source": [
    "df['Q4: COUNTRY']=df['Q4: COUNTRY'].replace(to_replace= Canada,value='Canada')"
   ]
  },
  {
   "cell_type": "code",
   "execution_count": 36,
   "metadata": {},
   "outputs": [
    {
     "data": {
      "text/plain": [
       "array(['USA', 'Canada', 'uk', 'United Kingdom', 'England', 'Mexico', '35',\n",
       "       'france', 'finland', 'North Carolina ', 'Netherlands', 'germany',\n",
       "       'Europe', 'Earth', 'Costa Rica', '46', 'cascadia', 'Australia',\n",
       "       'insanity lately', 'Greece', \"'merica\", '45', '32', 'France',\n",
       "       'australia', 'A', 'Can', 'Canae', 'New York', 'Ireland', 'Korea',\n",
       "       'California', 'Japan', 'South africa', 'Iceland', 'Germany',\n",
       "       'Scotland', 'Denmark', 'France ', 'Switzerland', 'Ahem....Amerca',\n",
       "       'Scotland ', 'South Korea', 'New Jersey', 'CANADA', 'Indonesia',\n",
       "       'America', 'The Netherlands', 'endland', 'Atlantis', 'Alaska',\n",
       "       'N. America', 'Singapore', 'China', 'Taiwan', 'Ireland ',\n",
       "       'hong kong', 'spain', 'Sweden', 'Hong Kong', 'Narnia', '1',\n",
       "       'United kingdom', \"I don't know anymore\", 'Fear and Loathing'],\n",
       "      dtype=object)"
      ]
     },
     "execution_count": 36,
     "metadata": {},
     "output_type": "execute_result"
    }
   ],
   "source": [
    "df['Q4: COUNTRY'].unique()"
   ]
  },
  {
   "cell_type": "code",
   "execution_count": 37,
   "metadata": {},
   "outputs": [],
   "source": [
    "England= [x for x in df['Q4: COUNTRY']\n",
    "                  if(('United' in str(x)) or ('England' in str(x)) or('uk' in str(x)))]"
   ]
  },
  {
   "cell_type": "code",
   "execution_count": 38,
   "metadata": {},
   "outputs": [],
   "source": [
    "df['Q4: COUNTRY']=df['Q4: COUNTRY'].replace(to_replace= England,value='England')"
   ]
  },
  {
   "cell_type": "code",
   "execution_count": 39,
   "metadata": {},
   "outputs": [
    {
     "data": {
      "text/plain": [
       "USA            2097\n",
       "Canada          223\n",
       "England          17\n",
       "Germany           7\n",
       "Netherlands       6\n",
       "               ... \n",
       "Scotland          1\n",
       "Canae             1\n",
       "Costa Rica        1\n",
       "'merica           1\n",
       "45                1\n",
       "Name: Q4: COUNTRY, Length: 62, dtype: int64"
      ]
     },
     "execution_count": 39,
     "metadata": {},
     "output_type": "execute_result"
    }
   ],
   "source": [
    "df['Q4: COUNTRY'].value_counts()"
   ]
  },
  {
   "cell_type": "code",
   "execution_count": 40,
   "metadata": {},
   "outputs": [
    {
     "data": {
      "text/html": [
       "<div>\n",
       "<style scoped>\n",
       "    .dataframe tbody tr th:only-of-type {\n",
       "        vertical-align: middle;\n",
       "    }\n",
       "\n",
       "    .dataframe tbody tr th {\n",
       "        vertical-align: top;\n",
       "    }\n",
       "\n",
       "    .dataframe thead th {\n",
       "        text-align: right;\n",
       "    }\n",
       "</style>\n",
       "<table border=\"1\" class=\"dataframe\">\n",
       "  <thead>\n",
       "    <tr style=\"text-align: right;\">\n",
       "      <th></th>\n",
       "      <th>Internal ID</th>\n",
       "      <th>Q1: GOING OUT?</th>\n",
       "      <th>Q2: GENDER</th>\n",
       "      <th>Q3: AGE</th>\n",
       "      <th>Q4: COUNTRY</th>\n",
       "      <th>Q5: STATE, PROVINCE, COUNTY, ETC</th>\n",
       "      <th>Q6 | 100 Grand Bar</th>\n",
       "      <th>Q6 | Anonymous brown globs that come in black and orange wrappers\\t(a.k.a. Mary Janes)</th>\n",
       "      <th>Q6 | Any full-sized candy bar</th>\n",
       "      <th>Q6 | Black Jacks</th>\n",
       "      <th>...</th>\n",
       "      <th>Q8: DESPAIR OTHER</th>\n",
       "      <th>Q9: OTHER COMMENTS</th>\n",
       "      <th>Q10: DRESS</th>\n",
       "      <th>Unnamed: 113</th>\n",
       "      <th>Q11: DAY</th>\n",
       "      <th>Q12: MEDIA [Daily Dish]</th>\n",
       "      <th>Q12: MEDIA [Science]</th>\n",
       "      <th>Q12: MEDIA [ESPN]</th>\n",
       "      <th>Q12: MEDIA [Yahoo]</th>\n",
       "      <th>Click Coordinates (x, y)</th>\n",
       "    </tr>\n",
       "  </thead>\n",
       "  <tbody>\n",
       "    <tr>\n",
       "      <th>1</th>\n",
       "      <td>90272821</td>\n",
       "      <td>No</td>\n",
       "      <td>Male</td>\n",
       "      <td>44</td>\n",
       "      <td>USA</td>\n",
       "      <td>NM</td>\n",
       "      <td>MEH</td>\n",
       "      <td>DESPAIR</td>\n",
       "      <td>JOY</td>\n",
       "      <td>MEH</td>\n",
       "      <td>...</td>\n",
       "      <td>NaN</td>\n",
       "      <td>Bottom line is Twix is really the only candy w...</td>\n",
       "      <td>White and gold</td>\n",
       "      <td>NaN</td>\n",
       "      <td>Sunday</td>\n",
       "      <td>NaN</td>\n",
       "      <td>1.0</td>\n",
       "      <td>NaN</td>\n",
       "      <td>NaN</td>\n",
       "      <td>(84, 25)</td>\n",
       "    </tr>\n",
       "    <tr>\n",
       "      <th>2</th>\n",
       "      <td>90272829</td>\n",
       "      <td>Do not know</td>\n",
       "      <td>Male</td>\n",
       "      <td>49</td>\n",
       "      <td>USA</td>\n",
       "      <td>Virginia</td>\n",
       "      <td>NaN</td>\n",
       "      <td>NaN</td>\n",
       "      <td>NaN</td>\n",
       "      <td>NaN</td>\n",
       "      <td>...</td>\n",
       "      <td>NaN</td>\n",
       "      <td>NaN</td>\n",
       "      <td>NaN</td>\n",
       "      <td>NaN</td>\n",
       "      <td>NaN</td>\n",
       "      <td>NaN</td>\n",
       "      <td>NaN</td>\n",
       "      <td>NaN</td>\n",
       "      <td>NaN</td>\n",
       "      <td>NaN</td>\n",
       "    </tr>\n",
       "    <tr>\n",
       "      <th>3</th>\n",
       "      <td>90272840</td>\n",
       "      <td>No</td>\n",
       "      <td>Male</td>\n",
       "      <td>40</td>\n",
       "      <td>USA</td>\n",
       "      <td>or</td>\n",
       "      <td>MEH</td>\n",
       "      <td>DESPAIR</td>\n",
       "      <td>JOY</td>\n",
       "      <td>MEH</td>\n",
       "      <td>...</td>\n",
       "      <td>NaN</td>\n",
       "      <td>Raisins can go to hell</td>\n",
       "      <td>White and gold</td>\n",
       "      <td>NaN</td>\n",
       "      <td>Sunday</td>\n",
       "      <td>NaN</td>\n",
       "      <td>1.0</td>\n",
       "      <td>NaN</td>\n",
       "      <td>NaN</td>\n",
       "      <td>(75, 23)</td>\n",
       "    </tr>\n",
       "    <tr>\n",
       "      <th>4</th>\n",
       "      <td>90272841</td>\n",
       "      <td>No</td>\n",
       "      <td>Male</td>\n",
       "      <td>23</td>\n",
       "      <td>USA</td>\n",
       "      <td>exton pa</td>\n",
       "      <td>JOY</td>\n",
       "      <td>DESPAIR</td>\n",
       "      <td>JOY</td>\n",
       "      <td>DESPAIR</td>\n",
       "      <td>...</td>\n",
       "      <td>NaN</td>\n",
       "      <td>NaN</td>\n",
       "      <td>White and gold</td>\n",
       "      <td>NaN</td>\n",
       "      <td>Friday</td>\n",
       "      <td>NaN</td>\n",
       "      <td>1.0</td>\n",
       "      <td>NaN</td>\n",
       "      <td>NaN</td>\n",
       "      <td>(70, 10)</td>\n",
       "    </tr>\n",
       "    <tr>\n",
       "      <th>5</th>\n",
       "      <td>90272852</td>\n",
       "      <td>No</td>\n",
       "      <td>Male</td>\n",
       "      <td>NaN</td>\n",
       "      <td>USA</td>\n",
       "      <td>NaN</td>\n",
       "      <td>JOY</td>\n",
       "      <td>DESPAIR</td>\n",
       "      <td>JOY</td>\n",
       "      <td>NaN</td>\n",
       "      <td>...</td>\n",
       "      <td>NaN</td>\n",
       "      <td>NaN</td>\n",
       "      <td>NaN</td>\n",
       "      <td>NaN</td>\n",
       "      <td>NaN</td>\n",
       "      <td>NaN</td>\n",
       "      <td>1.0</td>\n",
       "      <td>NaN</td>\n",
       "      <td>NaN</td>\n",
       "      <td>(75, 23)</td>\n",
       "    </tr>\n",
       "    <tr>\n",
       "      <th>...</th>\n",
       "      <td>...</td>\n",
       "      <td>...</td>\n",
       "      <td>...</td>\n",
       "      <td>...</td>\n",
       "      <td>...</td>\n",
       "      <td>...</td>\n",
       "      <td>...</td>\n",
       "      <td>...</td>\n",
       "      <td>...</td>\n",
       "      <td>...</td>\n",
       "      <td>...</td>\n",
       "      <td>...</td>\n",
       "      <td>...</td>\n",
       "      <td>...</td>\n",
       "      <td>...</td>\n",
       "      <td>...</td>\n",
       "      <td>...</td>\n",
       "      <td>...</td>\n",
       "      <td>...</td>\n",
       "      <td>...</td>\n",
       "      <td>...</td>\n",
       "    </tr>\n",
       "    <tr>\n",
       "      <th>2455</th>\n",
       "      <td>90314359</td>\n",
       "      <td>No</td>\n",
       "      <td>Male</td>\n",
       "      <td>24</td>\n",
       "      <td>USA</td>\n",
       "      <td>MD</td>\n",
       "      <td>JOY</td>\n",
       "      <td>DESPAIR</td>\n",
       "      <td>MEH</td>\n",
       "      <td>DESPAIR</td>\n",
       "      <td>...</td>\n",
       "      <td>Fruit Stripe Gum</td>\n",
       "      <td>NaN</td>\n",
       "      <td>White and gold</td>\n",
       "      <td>NaN</td>\n",
       "      <td>Friday</td>\n",
       "      <td>NaN</td>\n",
       "      <td>NaN</td>\n",
       "      <td>NaN</td>\n",
       "      <td>NaN</td>\n",
       "      <td>NaN</td>\n",
       "    </tr>\n",
       "    <tr>\n",
       "      <th>2456</th>\n",
       "      <td>90314580</td>\n",
       "      <td>No</td>\n",
       "      <td>Female</td>\n",
       "      <td>33</td>\n",
       "      <td>USA</td>\n",
       "      <td>New York</td>\n",
       "      <td>MEH</td>\n",
       "      <td>DESPAIR</td>\n",
       "      <td>JOY</td>\n",
       "      <td>NaN</td>\n",
       "      <td>...</td>\n",
       "      <td>Capers</td>\n",
       "      <td>NaN</td>\n",
       "      <td>Blue and black</td>\n",
       "      <td>NaN</td>\n",
       "      <td>Friday</td>\n",
       "      <td>NaN</td>\n",
       "      <td>1.0</td>\n",
       "      <td>NaN</td>\n",
       "      <td>NaN</td>\n",
       "      <td>(70, 26)</td>\n",
       "    </tr>\n",
       "    <tr>\n",
       "      <th>2457</th>\n",
       "      <td>90314634</td>\n",
       "      <td>No</td>\n",
       "      <td>Female</td>\n",
       "      <td>26</td>\n",
       "      <td>USA</td>\n",
       "      <td>Tennessee</td>\n",
       "      <td>MEH</td>\n",
       "      <td>DESPAIR</td>\n",
       "      <td>JOY</td>\n",
       "      <td>DESPAIR</td>\n",
       "      <td>...</td>\n",
       "      <td>NaN</td>\n",
       "      <td>NaN</td>\n",
       "      <td>Blue and black</td>\n",
       "      <td>NaN</td>\n",
       "      <td>Friday</td>\n",
       "      <td>NaN</td>\n",
       "      <td>1.0</td>\n",
       "      <td>NaN</td>\n",
       "      <td>NaN</td>\n",
       "      <td>(67, 35)</td>\n",
       "    </tr>\n",
       "    <tr>\n",
       "      <th>2458</th>\n",
       "      <td>90314658</td>\n",
       "      <td>No</td>\n",
       "      <td>Male</td>\n",
       "      <td>58</td>\n",
       "      <td>USA</td>\n",
       "      <td>North Carolina</td>\n",
       "      <td>NaN</td>\n",
       "      <td>NaN</td>\n",
       "      <td>NaN</td>\n",
       "      <td>NaN</td>\n",
       "      <td>...</td>\n",
       "      <td>NaN</td>\n",
       "      <td>NaN</td>\n",
       "      <td>NaN</td>\n",
       "      <td>NaN</td>\n",
       "      <td>NaN</td>\n",
       "      <td>NaN</td>\n",
       "      <td>NaN</td>\n",
       "      <td>NaN</td>\n",
       "      <td>NaN</td>\n",
       "      <td>NaN</td>\n",
       "    </tr>\n",
       "    <tr>\n",
       "      <th>2459</th>\n",
       "      <td>90314802</td>\n",
       "      <td>No</td>\n",
       "      <td>Female</td>\n",
       "      <td>66</td>\n",
       "      <td>USA</td>\n",
       "      <td>Pennsylvania</td>\n",
       "      <td>DESPAIR</td>\n",
       "      <td>DESPAIR</td>\n",
       "      <td>JOY</td>\n",
       "      <td>DESPAIR</td>\n",
       "      <td>...</td>\n",
       "      <td>NaN</td>\n",
       "      <td>You hit all my chocolate highlights, and broug...</td>\n",
       "      <td>White and gold</td>\n",
       "      <td>NaN</td>\n",
       "      <td>Sunday</td>\n",
       "      <td>1.0</td>\n",
       "      <td>NaN</td>\n",
       "      <td>NaN</td>\n",
       "      <td>NaN</td>\n",
       "      <td>(19, 26)</td>\n",
       "    </tr>\n",
       "  </tbody>\n",
       "</table>\n",
       "<p>2433 rows × 120 columns</p>\n",
       "</div>"
      ],
      "text/plain": [
       "      Internal ID Q1: GOING OUT? Q2: GENDER Q3: AGE Q4: COUNTRY  \\\n",
       "1        90272821             No       Male      44         USA   \n",
       "2        90272829    Do not know       Male      49         USA   \n",
       "3        90272840             No       Male      40         USA   \n",
       "4        90272841             No       Male      23         USA   \n",
       "5        90272852             No       Male     NaN         USA   \n",
       "...           ...            ...        ...     ...         ...   \n",
       "2455     90314359             No       Male      24         USA   \n",
       "2456     90314580             No     Female      33         USA   \n",
       "2457     90314634             No     Female      26         USA   \n",
       "2458     90314658             No       Male      58         USA   \n",
       "2459     90314802             No     Female      66         USA   \n",
       "\n",
       "     Q5: STATE, PROVINCE, COUNTY, ETC Q6 | 100 Grand Bar  \\\n",
       "1                                  NM                MEH   \n",
       "2                            Virginia                NaN   \n",
       "3                                  or                MEH   \n",
       "4                            exton pa                JOY   \n",
       "5                                 NaN                JOY   \n",
       "...                               ...                ...   \n",
       "2455                               MD                JOY   \n",
       "2456                         New York                MEH   \n",
       "2457                        Tennessee                MEH   \n",
       "2458                   North Carolina                NaN   \n",
       "2459                     Pennsylvania            DESPAIR   \n",
       "\n",
       "     Q6 | Anonymous brown globs that come in black and orange wrappers\\t(a.k.a. Mary Janes)  \\\n",
       "1                                               DESPAIR                                       \n",
       "2                                                   NaN                                       \n",
       "3                                               DESPAIR                                       \n",
       "4                                               DESPAIR                                       \n",
       "5                                               DESPAIR                                       \n",
       "...                                                 ...                                       \n",
       "2455                                            DESPAIR                                       \n",
       "2456                                            DESPAIR                                       \n",
       "2457                                            DESPAIR                                       \n",
       "2458                                                NaN                                       \n",
       "2459                                            DESPAIR                                       \n",
       "\n",
       "     Q6 | Any full-sized candy bar Q6 | Black Jacks  ... Q8: DESPAIR OTHER  \\\n",
       "1                              JOY              MEH  ...               NaN   \n",
       "2                              NaN              NaN  ...               NaN   \n",
       "3                              JOY              MEH  ...               NaN   \n",
       "4                              JOY          DESPAIR  ...               NaN   \n",
       "5                              JOY              NaN  ...               NaN   \n",
       "...                            ...              ...  ...               ...   \n",
       "2455                           MEH          DESPAIR  ...  Fruit Stripe Gum   \n",
       "2456                           JOY              NaN  ...            Capers   \n",
       "2457                           JOY          DESPAIR  ...               NaN   \n",
       "2458                           NaN              NaN  ...               NaN   \n",
       "2459                           JOY          DESPAIR  ...               NaN   \n",
       "\n",
       "                                     Q9: OTHER COMMENTS      Q10: DRESS  \\\n",
       "1     Bottom line is Twix is really the only candy w...  White and gold   \n",
       "2                                                   NaN             NaN   \n",
       "3                                Raisins can go to hell  White and gold   \n",
       "4                                                   NaN  White and gold   \n",
       "5                                                   NaN             NaN   \n",
       "...                                                 ...             ...   \n",
       "2455                                                NaN  White and gold   \n",
       "2456                                                NaN  Blue and black   \n",
       "2457                                                NaN  Blue and black   \n",
       "2458                                                NaN             NaN   \n",
       "2459  You hit all my chocolate highlights, and broug...  White and gold   \n",
       "\n",
       "     Unnamed: 113 Q11: DAY Q12: MEDIA [Daily Dish] Q12: MEDIA [Science]  \\\n",
       "1             NaN   Sunday                     NaN                  1.0   \n",
       "2             NaN      NaN                     NaN                  NaN   \n",
       "3             NaN   Sunday                     NaN                  1.0   \n",
       "4             NaN   Friday                     NaN                  1.0   \n",
       "5             NaN      NaN                     NaN                  1.0   \n",
       "...           ...      ...                     ...                  ...   \n",
       "2455          NaN   Friday                     NaN                  NaN   \n",
       "2456          NaN   Friday                     NaN                  1.0   \n",
       "2457          NaN   Friday                     NaN                  1.0   \n",
       "2458          NaN      NaN                     NaN                  NaN   \n",
       "2459          NaN   Sunday                     1.0                  NaN   \n",
       "\n",
       "     Q12: MEDIA [ESPN] Q12: MEDIA [Yahoo] Click Coordinates (x, y)  \n",
       "1                  NaN                NaN                 (84, 25)  \n",
       "2                  NaN                NaN                      NaN  \n",
       "3                  NaN                NaN                 (75, 23)  \n",
       "4                  NaN                NaN                 (70, 10)  \n",
       "5                  NaN                NaN                 (75, 23)  \n",
       "...                ...                ...                      ...  \n",
       "2455               NaN                NaN                      NaN  \n",
       "2456               NaN                NaN                 (70, 26)  \n",
       "2457               NaN                NaN                 (67, 35)  \n",
       "2458               NaN                NaN                      NaN  \n",
       "2459               NaN                NaN                 (19, 26)  \n",
       "\n",
       "[2433 rows x 120 columns]"
      ]
     },
     "execution_count": 40,
     "metadata": {},
     "output_type": "execute_result"
    }
   ],
   "source": [
    "df"
   ]
  },
  {
   "cell_type": "code",
   "execution_count": null,
   "metadata": {},
   "outputs": [],
   "source": []
  }
 ],
 "metadata": {
  "kernelspec": {
   "display_name": "Python 3",
   "language": "python",
   "name": "python3"
  },
  "language_info": {
   "codemirror_mode": {
    "name": "ipython",
    "version": 3
   },
   "file_extension": ".py",
   "mimetype": "text/x-python",
   "name": "python",
   "nbconvert_exporter": "python",
   "pygments_lexer": "ipython3",
   "version": "3.8.5"
  }
 },
 "nbformat": 4,
 "nbformat_minor": 4
}
